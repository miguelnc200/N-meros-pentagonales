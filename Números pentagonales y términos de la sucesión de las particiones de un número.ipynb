{
 "cells": [
  {
   "cell_type": "markdown",
   "metadata": {},
   "source": [
    "# Calculo de los números Pentagonales:\n",
    "\n",
    "#### Para conocer un poco de estos números podemos ir a la Wikipedia y leer un poco sobre ellos en el siguiente enlace\n",
    "\n",
    "https://es.wikipedia.org/wiki/N%C3%BAmero_pentagonal\n",
    "\n",
    "#### Esta sucesión de números podemos encontrarla por ejemplo en el cálculo de las particiones de los números naturales. Vamos a organizar entonces un poco de lo que haremos:\n",
    "\n",
    "```\n",
    "    1) Haremos diferentes funciones para calcular las particiones de un número, aunque no son muy óptimas, pues esta sucesión tiene un crecimiento exponencial, entonces, a partir de cierto momento (en la última función, que es sum4, hasta 40, llega bien, pero las anteriores, no llegan a tanto). Para calcular entonces los números de la sucesión de los números de las particiones usaremos la función $Partitions(n).list()$, pues esta sí llega a números más altos.\n",
    "    \n",
    "    2) Calcularemos los coeficientes de lo anterior, y comprobaremos que se pueden obtener mediante la suma de los términos. \n",
    "    3) Veremos maneras directas de construir los números pentagonales.\n",
    "    4) Construiremos la máquina de Euler, que nos ayudará a obtener los términos de la sucesión de las particiones de un número.\n",
    "    4) Construiremos las herramientas para calcular los números pentagonales y los elementos de las particiones de un números sin repeticiones. Esto lo hemos obtenido gracias al siguiente vídeo:\n",
    "    \n",
    "```\n",
    "\n",
    "https://www.youtube.com/watch?v=iJ8pnCO0nTY&t=697s&ab_channel=Mathologer\n",
    "\n"
   ]
  },
  {
   "cell_type": "code",
   "execution_count": 20,
   "metadata": {},
   "outputs": [],
   "source": [
    "from collections import OrderedDict"
   ]
  },
  {
   "cell_type": "markdown",
   "metadata": {},
   "source": [
    "En esta parte, nos hemos encargado de construir las particiones de un número con repeticiones. Además es fácil observar que este algoritmo crece muy rápido, pues cada número $n$, tiene $2^{n-1}$ elementos y como lo haremos por recursión el peso computacional es muy grance. Unos calculos de Ramanujan, Hardy y Rademacher nos dice que los términos de la sucesión tienen un crecimiento exponencial."
   ]
  },
  {
   "cell_type": "code",
   "execution_count": 21,
   "metadata": {},
   "outputs": [],
   "source": [
    "def suma_list(xs,n, m): #Lo que hace es añadir los elementos que le faltan a la siguiente, podemos poner un ejemplo\n",
    "    k = []\n",
    "    for elem in xs:\n",
    "        k.append(elem + n)\n",
    "        k.append(m+elem)\n",
    "    return list(set(k))\n",
    "\n",
    "\n",
    "\n",
    "#suma_list(formas_sum(n-2), \" + 2\", \"2 + \"),suma_list(suma_list(formas_sum(n-2),\" + 1\", \"1 + \"),\" + 1\", \"1 + \"), aquí van 2"
   ]
  },
  {
   "cell_type": "code",
   "execution_count": 22,
   "metadata": {},
   "outputs": [],
   "source": [
    "def formas_sum(n): \n",
    "    #Una forma de calcular las sumas del número n, que siempre verifica que tienen 2^{n-1} elementos\n",
    "    if n == 1:\n",
    "        return [\"1\"]\n",
    "    elif n== 2:\n",
    "        return [\"2\", \"1 + 1\"]\n",
    "    else: \n",
    "        k = [str(n)]\n",
    "        for i in range(1,(n//2)+1):\n",
    "            k += suma_list(formas_sum(n-i), \" + \" + str(i),  str(i) + \" + \")\n",
    "\n",
    "        return list(OrderedDict.fromkeys(k))"
   ]
  },
  {
   "cell_type": "code",
   "execution_count": 23,
   "metadata": {},
   "outputs": [
    {
     "data": {
      "text/plain": [
       "['5',\n",
       " '2 + 1 + 1 + 1',\n",
       " '1 + 1 + 1 + 1 + 1',\n",
       " '1 + 3 + 1',\n",
       " '1 + 1 + 3',\n",
       " '1 + 1 + 2 + 1',\n",
       " '1 + 4',\n",
       " '3 + 1 + 1',\n",
       " '1 + 2 + 1 + 1',\n",
       " '2 + 2 + 1',\n",
       " '1 + 2 + 2',\n",
       " '1 + 1 + 1 + 2',\n",
       " '4 + 1',\n",
       " '2 + 1 + 2',\n",
       " '2 + 3',\n",
       " '3 + 2']"
      ]
     },
     "execution_count": 23,
     "metadata": {},
     "output_type": "execute_result"
    }
   ],
   "source": [
    "formas_sum(5) #Ejemplito"
   ]
  },
  {
   "cell_type": "code",
   "execution_count": 24,
   "metadata": {},
   "outputs": [],
   "source": [
    "def div_part(n,xs): \n",
    "    #Una función que nos ayuda añadir elementos, la análoga a suma_list, pero en listas\n",
    "    lis = []\n",
    "    for i in xs:\n",
    "        if type(i) != list:\n",
    "            lo_que = [n,i]\n",
    "            lo_que.sort()\n",
    "            lis.append(lo_que)\n",
    "        else:\n",
    "            lo_que = [n] + i\n",
    "            lo_que.sort()\n",
    "            lis.append(lo_que)    \n",
    "    return lis"
   ]
  },
  {
   "cell_type": "code",
   "execution_count": 25,
   "metadata": {},
   "outputs": [],
   "source": [
    "def particiones(n): \n",
    "    #Aquí vamos con otra forma de calcular las formas de el número n-esimo\n",
    "    if n == 1:\n",
    "        return [1]\n",
    "    elif n== 2:\n",
    "        return [2, [1,1]]\n",
    "    else:\n",
    "        k = [n]\n",
    "        for i in range(1,n):\n",
    "            lol = div_part(n-i, particiones(i))\n",
    "            lol.sort()\n",
    "            k += lol\n",
    "        return k"
   ]
  },
  {
   "cell_type": "code",
   "execution_count": 26,
   "metadata": {},
   "outputs": [
    {
     "data": {
      "text/plain": [
       "[4, [1, 3], [1, 1, 2], [2, 2], [1, 1, 1, 1], [1, 1, 2], [1, 1, 2], [1, 3]]"
      ]
     },
     "execution_count": 26,
     "metadata": {},
     "output_type": "execute_result"
    }
   ],
   "source": [
    "particiones(4) #Ejemplo"
   ]
  },
  {
   "cell_type": "code",
   "execution_count": 27,
   "metadata": {},
   "outputs": [],
   "source": [
    "def limpiar_lista(xs): \n",
    "    #Esta función nos quita los elementos repetidos que tubieramos, de esta forma ya no tenemos 2^{n-1}\n",
    "    k = []\n",
    "    for i in xs:\n",
    "        if i in k:\n",
    "            k = k\n",
    "        else:\n",
    "            k.append(i)    \n",
    "    return k"
   ]
  },
  {
   "cell_type": "code",
   "execution_count": 28,
   "metadata": {},
   "outputs": [
    {
     "data": {
      "text/plain": [
       "[4, [1, 3], [1, 1, 2], [2, 2], [1, 1, 1, 1]]"
      ]
     },
     "execution_count": 28,
     "metadata": {},
     "output_type": "execute_result"
    }
   ],
   "source": [
    "limpiar_lista(particiones(4)) #Ejemplo"
   ]
  },
  {
   "cell_type": "code",
   "execution_count": 29,
   "metadata": {},
   "outputs": [],
   "source": [
    "def particiones2(n): #Particiones de un número sin repetición por orden\n",
    "    k =particiones(n)\n",
    "    return (limpiar_lista(k))"
   ]
  },
  {
   "cell_type": "code",
   "execution_count": 30,
   "metadata": {},
   "outputs": [
    {
     "data": {
      "text/plain": [
       "[6,\n",
       " [1, 5],\n",
       " [1, 1, 4],\n",
       " [2, 4],\n",
       " [1, 1, 1, 3],\n",
       " [1, 2, 3],\n",
       " [3, 3],\n",
       " [1, 1, 1, 1, 2],\n",
       " [1, 1, 2, 2],\n",
       " [2, 2, 2],\n",
       " [1, 1, 1, 1, 1, 1]]"
      ]
     },
     "execution_count": 30,
     "metadata": {},
     "output_type": "execute_result"
    }
   ],
   "source": [
    "particiones2(6)"
   ]
  },
  {
   "cell_type": "code",
   "execution_count": 31,
   "metadata": {},
   "outputs": [],
   "source": [
    "def transsum(xs): \n",
    "    #Esta función nos transformará listas de listas, en listas de caracterés\n",
    "    k = \"\"\n",
    "    for j in range(len(xs)):\n",
    "        if j < len(xs) - 1:\n",
    "            k += str(xs[j]) + \" + \"\n",
    "        else: \n",
    "            k += str(xs[j])\n",
    "    return k"
   ]
  },
  {
   "cell_type": "code",
   "execution_count": 32,
   "metadata": {},
   "outputs": [
    {
     "data": {
      "text/plain": [
       "'1 + 2 + 3'"
      ]
     },
     "execution_count": 32,
     "metadata": {},
     "output_type": "execute_result"
    }
   ],
   "source": [
    "transsum([1,2,3])"
   ]
  },
  {
   "cell_type": "code",
   "execution_count": 33,
   "metadata": {},
   "outputs": [],
   "source": [
    "def formas_sum_3(n): \n",
    "    #Aquí, le aplicamos todas las nuevas funciones a las particiones calculadas. Pasamos de particiones en listas a particiones en cadenas con sumas.\n",
    "    xs = particiones2(n)\n",
    "    k = []\n",
    "    for i in range(len(xs)):\n",
    "        if i == 0:\n",
    "             k.append(str(xs[i]))\n",
    "        else:\n",
    "            k.append(transsum(xs[i]))\n",
    "    return k"
   ]
  },
  {
   "cell_type": "code",
   "execution_count": 34,
   "metadata": {},
   "outputs": [
    {
     "data": {
      "text/plain": [
       "['5',\n",
       " '1 + 4',\n",
       " '1 + 1 + 3',\n",
       " '2 + 3',\n",
       " '1 + 1 + 1 + 2',\n",
       " '1 + 2 + 2',\n",
       " '1 + 1 + 1 + 1 + 1']"
      ]
     },
     "execution_count": 34,
     "metadata": {},
     "output_type": "execute_result"
    }
   ],
   "source": [
    "formas_sum_3(5)"
   ]
  },
  {
   "cell_type": "code",
   "execution_count": 35,
   "metadata": {},
   "outputs": [],
   "source": [
    "def sumas3(n): \n",
    "    #Esta función nos calcula las particiones no repetidas, pero con diccionarios\n",
    "    Sumas_hasta_n = {\n",
    "    \"1=\": [[1]],\n",
    "    \"2=\": [[2], [1,1]]\n",
    "    }\n",
    "    if n > 2:\n",
    "        for i in range(3,n+1):\n",
    "            k = [[i]]\n",
    "            for j in range(1,i):\n",
    "                m = i - j\n",
    "                ayuda = Sumas_hasta_n[str(j)+\"=\"]\n",
    "                for elem in range(len(ayuda)): \n",
    "                    el_m = ayuda[elem] + [m]\n",
    "                    el_m.sort()\n",
    "                    k.append(el_m)\n",
    "            limp = limpiar_lista(k)\n",
    "            Sumas_hasta_n[str(i)+\"=\"] = limp\n",
    "    return Sumas_hasta_n"
   ]
  },
  {
   "cell_type": "code",
   "execution_count": 36,
   "metadata": {},
   "outputs": [
    {
     "data": {
      "text/plain": [
       "{'1=': [[1]],\n",
       " '2=': [[2], [1, 1]],\n",
       " '3=': [[3], [1, 2], [1, 1, 1]],\n",
       " '4=': [[4], [1, 3], [2, 2], [1, 1, 2], [1, 1, 1, 1]]}"
      ]
     },
     "execution_count": 36,
     "metadata": {},
     "output_type": "execute_result"
    }
   ],
   "source": [
    "sumas3(4)"
   ]
  },
  {
   "cell_type": "code",
   "execution_count": null,
   "metadata": {},
   "outputs": [],
   "source": []
  },
  {
   "cell_type": "markdown",
   "metadata": {},
   "source": [
    "A continuación, vamos a crear unas funciones que nos eliminaran las sumas repetidas, de esta forma, podremos llegar a los números pentagonales."
   ]
  },
  {
   "cell_type": "code",
   "execution_count": 37,
   "metadata": {},
   "outputs": [],
   "source": [
    "def repite(n): #Obtenemos la sucesión que vemos en el vídeo de Mathologer, que alterna naturales e impares para crear las diferencias de nuestra próxima sucesión en el vídeo\n",
    "    k = []\n",
    "    for i in range(n):\n",
    "        k.append(1)\n",
    "    return k\n",
    "\n",
    "\n",
    "def lista_impares(n):\n",
    "    k = 3\n",
    "    lis = []\n",
    "    while k <= n:\n",
    "        lis.append(k)\n",
    "        k += 2\n",
    "    return lis\n",
    "\n",
    "\n",
    "def lista_enteros(n):\n",
    "    k = 1\n",
    "    lis = []\n",
    "    while k <= n:\n",
    "        lis.append(k)\n",
    "        k += 1\n",
    "    return lis\n",
    "\n",
    "\n",
    "def alterna(n):\n",
    "    lis_1  = repite(2*n)\n",
    "    list_2 = lista_impares(2*n + 1)\n",
    "    list_3 = lista_enteros(2*n)\n",
    "    for i in range(2*n):\n",
    "        if i % 2 == 0:\n",
    "            lis_1[i] = list_3[i//2]\n",
    "        else:\n",
    "            lis_1[i] = list_2[i//2]\n",
    "    return  lis_1  "
   ]
  },
  {
   "cell_type": "code",
   "execution_count": 38,
   "metadata": {
    "scrolled": true
   },
   "outputs": [
    {
     "data": {
      "text/plain": [
       "[1, 3, 2, 5, 3, 7, 4, 9, 5, 11, 6, 13, 7, 15, 8, 17, 9, 19, 10, 21]"
      ]
     },
     "execution_count": 38,
     "metadata": {},
     "output_type": "execute_result"
    }
   ],
   "source": [
    "alterna(10)"
   ]
  },
  {
   "cell_type": "code",
   "execution_count": 39,
   "metadata": {},
   "outputs": [],
   "source": [
    "def pent(n): #numeros pentagonales a partir de la sucesión anterior como se ve en el vídeo\n",
    "    k=1\n",
    "    lis=[1]\n",
    "    while k <= n:\n",
    "        alt=alterna(k)\n",
    "        lis.append(lis[-1]+alt[-1]+alt[-2])\n",
    "        k += 1\n",
    "    return lis"
   ]
  },
  {
   "cell_type": "code",
   "execution_count": 40,
   "metadata": {},
   "outputs": [
    {
     "data": {
      "text/plain": [
       "[1, 5, 12, 22, 35, 51, 70, 92]"
      ]
     },
     "execution_count": 40,
     "metadata": {},
     "output_type": "execute_result"
    }
   ],
   "source": [
    "pent(7) #ejemplo"
   ]
  },
  {
   "cell_type": "markdown",
   "metadata": {},
   "source": [
    "Para calcular los coeficientes del método anterior vamos a generar una serie, que nos ayudará a ver cuales son los términos que tenemos que sumar para llegar al próximo término de la sucesión de las particiones de un número. Veremos que podemos obtenerlo como sucesión."
   ]
  },
  {
   "cell_type": "code",
   "execution_count": 55,
   "metadata": {},
   "outputs": [],
   "source": [
    "def sumas4(n):\n",
    "    # Esta nos dará los elementos que no tengan números repetidos en el sumando\n",
    "    Sumas_hasta_n = sumas3(n)\n",
    "    for elem in list(Sumas_hasta_n.keys()):\n",
    "        k = []\n",
    "        for i in list(Sumas_hasta_n[elem]):\n",
    "            a = list(set(i))\n",
    "            a.sort()\n",
    "            if  a == i:\n",
    "                k.append(i)\n",
    "        Sumas_hasta_n[elem] = k\n",
    "    return Sumas_hasta_n"
   ]
  },
  {
   "cell_type": "markdown",
   "metadata": {},
   "source": [
    "Ahora veremos con esta función, que términos tenemos que sumar o restar para obtener el próximo número de la sucesión"
   ]
  },
  {
   "cell_type": "code",
   "execution_count": 42,
   "metadata": {},
   "outputs": [],
   "source": [
    "def solo_dif(diccionario):\n",
    "    #Nos transforma en un 1 o en un -1, que nos facilitará a calcular la cantidad de términos del k-esimo elemento, según el número de particiones de longitud par o impar para ver si debemos sumar o restar la posición de la sucesión del número de particiones para obtener los pentagonales.\n",
    "    Sumas_sin_rep = {}\n",
    "    for elem in list(diccionario.keys()):\n",
    "        odd = []\n",
    "        even = []\n",
    "        for i in diccionario[elem]:\n",
    "            if len(i) % 2 == 0:\n",
    "                even.append(i)\n",
    "            else:\n",
    "                odd.append(i)\n",
    "        if len(even) != len(odd):\n",
    "            Sumas_sin_rep[elem] = (len(odd)-len(even))/abs((len(odd)-len(even)))\n",
    "        else:\n",
    "            Sumas_sin_rep[elem] = 0\n",
    "    return Sumas_sin_rep"
   ]
  },
  {
   "cell_type": "code",
   "execution_count": 43,
   "metadata": {},
   "outputs": [],
   "source": [
    "def solo_dif_n(n):\n",
    "    #Otra función como la anterior, pero que usamos el comando de Sage Partitions\n",
    "    partition = Partitions(n).list()\n",
    "    k = []\n",
    "    for elem in partition:\n",
    "        i = list(elem)\n",
    "        i.sort()\n",
    "        part = list(set(elem))\n",
    "        part.sort()\n",
    "        if part == i:\n",
    "            k.append(part)\n",
    "    return k"
   ]
  },
  {
   "cell_type": "code",
   "execution_count": 44,
   "metadata": {},
   "outputs": [
    {
     "data": {
      "text/plain": [
       "{'1=': 1.0,\n",
       " '2=': 1.0,\n",
       " '3=': 0,\n",
       " '4=': 0,\n",
       " '5=': -1.0,\n",
       " '6=': 0,\n",
       " '7=': -1.0,\n",
       " '8=': 0,\n",
       " '9=': 0,\n",
       " '10=': 0,\n",
       " '11=': 0,\n",
       " '12=': 1.0,\n",
       " '13=': 0,\n",
       " '14=': 0,\n",
       " '15=': 1.0}"
      ]
     },
     "execution_count": 44,
     "metadata": {},
     "output_type": "execute_result"
    }
   ],
   "source": [
    "solo_dif(sumas4(15))\n"
   ]
  },
  {
   "cell_type": "code",
   "execution_count": 45,
   "metadata": {},
   "outputs": [],
   "source": [
    "def lista_coef(n): \n",
    "    #Sucesión que en el vídeo se usa como puente entre los pentagonales y alterna(n) tal y como la definimos arriba. Podemos ver los pentagonales alternados en esta sucesión.\n",
    "    k = repite(n)\n",
    "    lis = alterna(n)\n",
    "    for i in range(1,n):\n",
    "        k[i] = k[i-1] + lis[i-1]\n",
    "    return k"
   ]
  },
  {
   "cell_type": "code",
   "execution_count": 46,
   "metadata": {},
   "outputs": [
    {
     "data": {
      "text/plain": [
       "[1, 2, 5, 7, 12, 15, 22]"
      ]
     },
     "execution_count": 46,
     "metadata": {},
     "output_type": "execute_result"
    }
   ],
   "source": [
    "lista_coef(7)"
   ]
  },
  {
   "cell_type": "code",
   "execution_count": 53,
   "metadata": {},
   "outputs": [],
   "source": [
    "def termino_n(n):\n",
    "    #Nos calcula la suma hasta el término n-esimo de las particiones de un número diferentes\n",
    "    dic = solo_dif(sumas4(n))\n",
    "    lis = [1.0]+lista_coef(n)\n",
    "    k = [1]\n",
    "    for j in range(1,n):\n",
    "        suma = 0\n",
    "        i = 1\n",
    "        while i <= j:\n",
    "            suma += dic[str(i)+\"=\"]*k[j-i]\n",
    "            i += 1\n",
    "        k += [suma]\n",
    "    return k"
   ]
  },
  {
   "cell_type": "code",
   "execution_count": 54,
   "metadata": {},
   "outputs": [
    {
     "data": {
      "text/plain": [
       "[1, 1.0, 2.0, 3.0, 5.0, 7.0, 11.0, 15.0, 22.0, 30.0, 42.0]"
      ]
     },
     "execution_count": 54,
     "metadata": {},
     "output_type": "execute_result"
    }
   ],
   "source": [
    "termino_n(11)"
   ]
  },
  {
   "cell_type": "markdown",
   "metadata": {},
   "source": [
    "Crearemos ahora la máquina de Euler, que nos ayudará a calcular los números de la sucesión"
   ]
  },
  {
   "cell_type": "code",
   "execution_count": 35,
   "metadata": {},
   "outputs": [],
   "source": [
    "def partition(n):\n",
    "    ##Es una función aun mejor que la anterior, que hemos construido con ayuda de algunos videos y comentarios en stackoverflow\n",
    "    odd_pos = []; even_pos= []; pos_d = []\n",
    "    for i in range(1,n+1):\n",
    "        even_pos.append(i)\n",
    "        odd_pos.append(2*i+1)\n",
    "    m = 0; k = 0\n",
    "    for i in range(n-1):\n",
    "        if i % 2 == 0:\n",
    "            pos_d.append(even_pos[m])\n",
    "            m += 1\n",
    "        else:\n",
    "            pos_d.append(odd_pos[k])\n",
    "            k += 1\n",
    "    initial = 1; pos_index = [initial]; count = 1\n",
    "    for i in pos_d:\n",
    "        d = initial + i\n",
    "        pos_index.append(d)\n",
    "        initial = d\n",
    "        count += 1\n",
    "        if count > n:\n",
    "            break\n",
    "    sign = []\n",
    "    for i in range(n):\n",
    "        if i % 4 == 2 or i % 4 == 3:\n",
    "            sign.append(-1)\n",
    "        else:\n",
    "            sign.append(1)\n",
    "    pos_sign = []; k = 0\n",
    "    for i in range(1,n+1):\n",
    "        if i in pos_index:\n",
    "            ps = (i,sign[k])\n",
    "            k = k + 1\n",
    "            pos_sign.append(ps)\n",
    "        else:\n",
    "            pos_sign.append(0)\n",
    "    if len(pos_sign) != n:\n",
    "        print(\"Error in position and sign list.\")\n",
    "    partition = [1]\n",
    "    f_pos = []\n",
    "    for i in range(n):\n",
    "        if pos_sign[i]:\n",
    "            f_pos.append(pos_sign[i])\n",
    "        partition.append(sum(partition[-p]*s for p,s in f_pos))\n",
    "    return partition"
   ]
  },
  {
   "cell_type": "code",
   "execution_count": 36,
   "metadata": {},
   "outputs": [
    {
     "data": {
      "text/plain": [
       "[1, 1, 2, 3, 5, 7, 11, 15, 22, 30, 42]"
      ]
     },
     "execution_count": 36,
     "metadata": {},
     "output_type": "execute_result"
    }
   ],
   "source": [
    "partition(10)"
   ]
  },
  {
   "cell_type": "code",
   "execution_count": 0,
   "metadata": {},
   "outputs": [],
   "source": []
  }
 ],
 "metadata": {
  "kernelspec": {
   "display_name": "SageMath 9.3",
   "language": "sage",
   "name": "sagemath"
  },
  "language_info": {
   "codemirror_mode": {
    "name": "ipython",
    "version": 3
   },
   "file_extension": ".py",
   "mimetype": "text/x-python",
   "name": "python",
   "nbconvert_exporter": "python",
   "pygments_lexer": "ipython3",
   "version": "3.7.10"
  }
 },
 "nbformat": 4,
 "nbformat_minor": 4
}
